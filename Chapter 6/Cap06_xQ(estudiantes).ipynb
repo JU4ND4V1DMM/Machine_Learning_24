{
  "nbformat": 4,
  "nbformat_minor": 0,
  "metadata": {
    "colab": {
      "provenance": []
    },
    "kernelspec": {
      "name": "python3",
      "display_name": "Python 3"
    },
    "language_info": {
      "name": "python"
    }
  },
  "cells": [
    {
      "cell_type": "markdown",
      "source": [
        "# Quiz Capítulo 6.\n",
        "\n",
        "* **Estudiantes**"
      ],
      "metadata": {
        "id": "1q0O8l8ZVPQY"
      }
    },
    {
      "cell_type": "markdown",
      "source": [
        "## Pregunta 1.\n",
        "\n",
        "¿Cuál de las siguientes afirmaciones sobre el aprendizaje es incorrecta?\n"
      ],
      "metadata": {
        "id": "aTUQj5elVV8p"
      }
    },
    {
      "cell_type": "markdown",
      "source": [
        "1. El aprendizaje supervisado utiliza tanto datos de entrada como datos de aprendizaje dado un resultado, pero el aprendizaje no supervisado se utiliza en forma de aprendizaje que utiliza solo datos de entrada sin datos de aprendizaje.\n",
        "\n",
        "2. Se puede decir que el aprendizaje no supervisado es un método de aprendizaje que informa el problema pero no da la respuesta.\n",
        "\n",
        "3. Se pueden utilizar el análisis de agrupamiento jerárquico y el agrupamiento de K-means para la agrupación, como algoritmo de aprendizaje no supervisado.\n",
        "\n",
        "4. En agrupaciones con K-means es fácil determinar el número inicial de agrupaciones y de interpretar los resultados.\n"
      ],
      "metadata": {
        "id": "facezm7QVnCS"
      }
    },
    {
      "cell_type": "markdown",
      "source": [
        "<font color=red>[Respuesta]</font>"
      ],
      "metadata": {
        "id": "qRy95VuKVo3i"
      }
    },
    {
      "cell_type": "markdown",
      "source": [
        "## Pregunta 2.\n",
        "\n",
        "¿Cuál de las siguientes afirmaciones sobre la agrupación (clustering) es incorrecta?\n"
      ],
      "metadata": {
        "id": "j-6GIPRXXG5X"
      }
    },
    {
      "cell_type": "markdown",
      "source": [
        "1. La técnica de agrupamiento más utilizada es K-Means.\n",
        "2. La agrupación jerárquica se decide después de agrupar sin determinar el número de grupos.\n",
        "3. El algoritmo de agrupamiento jerárquico tiene K-medoids.\n",
        "4. La agrupación es una técnica que asigna y analiza grupos en función de la similitud o diferencia entre cada entidad.\n"
      ],
      "metadata": {
        "id": "Tnfd5RgLYKGY"
      }
    },
    {
      "cell_type": "markdown",
      "source": [
        "<font color=red>[Respuesta]</font>"
      ],
      "metadata": {
        "id": "MMQf_MFrYLkh"
      }
    },
    {
      "cell_type": "markdown",
      "source": [
        "## Pregunta 3.\n",
        "\n",
        "El algoritmo EM pertenece al algoritmo codicioso (greedy algorithm). Por favor explique el motivo.\n"
      ],
      "metadata": {
        "id": "HuDSqQSxY90l"
      }
    },
    {
      "cell_type": "markdown",
      "source": [
        "<font color=red>[Respuesta]</font>"
      ],
      "metadata": {
        "id": "kvWwHnSKZGeV"
      }
    },
    {
      "cell_type": "markdown",
      "source": [
        "## Pregunta 4.\n",
        "\n",
        "Escribe tres o más ejemplos de algoritmo de agrupamiento. (ej. Análisis de datos)\n"
      ],
      "metadata": {
        "id": "T2OPcyZhZbkJ"
      }
    },
    {
      "cell_type": "markdown",
      "source": [
        "<font color=red>[Respuesta]</font>"
      ],
      "metadata": {
        "id": "ouqpLsqSZkje"
      }
    },
    {
      "cell_type": "markdown",
      "source": [
        "## Pregunta 5.\n",
        "\n",
        "Explica los dos métodos para elegir el número óptimo de grupos cuando se utilizan K-means. Describe cómo encontrar el número óptimo de conjuntos o agrupaciones utilizando los dos métodos.\n"
      ],
      "metadata": {
        "id": "HRI-DCp1Z8dV"
      }
    },
    {
      "cell_type": "markdown",
      "source": [
        "<font color=red>[Respuesta]</font>\n",
        "\n"
      ],
      "metadata": {
        "id": "CWACMyCDaE5M"
      }
    },
    {
      "cell_type": "markdown",
      "source": [
        "## Pregunta 6.\n",
        "\n",
        "Agrupa y visualiza datos de muestra del siguiente código utilizando los algoritmos K-Means, Aggregate Clustering y DBSCan.\n",
        "\n",
        "Para K-Means y Aggregate Clustering, establece el número de agrupaciones a 3."
      ],
      "metadata": {
        "id": "rpmJfsoXbOtm"
      }
    },
    {
      "cell_type": "code",
      "execution_count": null,
      "metadata": {
        "id": "YY3Ah4zgVJAt"
      },
      "outputs": [],
      "source": [
        "from sklearn.datasets import make_blobs, make_moons\n",
        "from sklearn.cluster import KMeans\n",
        "from sklearn.cluster import AgglomerativeClustering\n",
        "from sklearn.cluster import DBSCAN\n",
        "import pandas as pd\n",
        "import matplotlib.pyplot as plt\n",
        "\n",
        "X, label = make_blobs(n_samples=300, n_features=2, centers=3, cluster_std=5, random_state=123)\n",
        "plt.scatter(X[:,0], X[:,1], c=label, alpha=0.7)\n",
        "plt.title('Dataset #1 : Original')\n",
        "plt.show()"
      ]
    },
    {
      "cell_type": "markdown",
      "source": [
        "<font color=red>[Respuesta]</font>"
      ],
      "metadata": {
        "id": "0l1FyBcVbyfg"
      }
    },
    {
      "cell_type": "code",
      "source": [],
      "metadata": {
        "id": "THZ9DS-XcvxH"
      },
      "execution_count": null,
      "outputs": []
    },
    {
      "cell_type": "code",
      "source": [],
      "metadata": {
        "id": "cOTDfdITcvor"
      },
      "execution_count": null,
      "outputs": []
    },
    {
      "cell_type": "code",
      "source": [],
      "metadata": {
        "id": "TkE7ikPFcvbD"
      },
      "execution_count": null,
      "outputs": []
    }
  ]
}