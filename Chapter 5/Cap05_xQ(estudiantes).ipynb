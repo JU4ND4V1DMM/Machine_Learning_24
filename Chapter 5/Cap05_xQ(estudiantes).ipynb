{
  "nbformat": 4,
  "nbformat_minor": 0,
  "metadata": {
    "colab": {
      "provenance": []
    },
    "kernelspec": {
      "name": "python3",
      "display_name": "Python 3"
    },
    "language_info": {
      "name": "python"
    }
  },
  "cells": [
    {
      "cell_type": "markdown",
      "source": [
        "# Quiz Capítulo 5.\n",
        "\n",
        "* **Estudiantes**"
      ],
      "metadata": {
        "id": "U1AK5ZH2QWLe"
      }
    },
    {
      "cell_type": "markdown",
      "source": [
        "## Pregunta 1.\n",
        "\n",
        "¿Cuál de las siguientes afirmaciones sobre el aprendizaje supervisado es incorrecta?"
      ],
      "metadata": {
        "id": "keiMorE-QUg3"
      }
    },
    {
      "cell_type": "markdown",
      "source": [
        "1. El alumno supervisado debe hacer predicciones correctamente con los datos proporcionados a partir de los datos de entrenamiento.\n",
        "\n",
        "2. La precisión es la relación entre lo que el modelo clasifica como verdadero y lo que realmente clasifica como verdadero. Esto se puede llamar tasa de respuesta.\n",
        "\n",
        "3. El índice de recuerdo es la relación entre lo que el modelo predice que es verdadero y lo que realmente es cierto.\n",
        "\n",
        "4. El índice de recuperación se calcula como ${\\frac{t p}{t p+f p}}\\ {\\mathrm{es~la~expresión~para~precisión}}$"
      ],
      "metadata": {
        "id": "STrbbrRLQiqS"
      }
    },
    {
      "cell_type": "markdown",
      "source": [
        "<Font color=red>[Respuesta]</Font>"
      ],
      "metadata": {
        "id": "IoEuPytfQ2sn"
      }
    },
    {
      "cell_type": "markdown",
      "source": [
        "## Pregunta 2.\n",
        "\n",
        "¿Cuál es el método para estimar los coeficientes de regresión en el análisis de regresión?"
      ],
      "metadata": {
        "id": "V2r156VHRYdI"
      }
    },
    {
      "cell_type": "markdown",
      "source": [
        "<Font color=red>[Respuesta]</Font>"
      ],
      "metadata": {
        "id": "nlqyIP5hRc-o"
      }
    },
    {
      "cell_type": "markdown",
      "source": [
        "## Pregunta 3.\n",
        "\n",
        "¿Cuál de las siguientes afirmaciones sobre el sobreajuste es incorrecta?"
      ],
      "metadata": {
        "id": "6k-A7rXMRjpD"
      }
    },
    {
      "cell_type": "markdown",
      "source": [
        "1. Una característica de un patrón que se encuentra en un conjunto de datos específico y que existe solo en ese conjunto de datos, o una característica de un patrón que no se generaliza y existe solo en un dato específico se denomina sobreajuste.\n",
        "\n",
        "2. Los métodos de extracción utilizados para resolver el problema de sobreajuste incluyen el método de reserva, el método de validación cruzada, el método de arranque, etc.\n",
        "\n",
        "3. En el método de reserva, la validación cruzada se realiza dividiendo los datos de entrenamiento para el aprendizaje y la construcción del modelo y los datos de verificación para la evaluación del desempeño, y los resultados de los datos de verificación se usan solo para la medición del desempeño sin afectar el modelo.\n",
        "\n",
        "4. El método de validación cruzada es un método para volver a seleccionar datos de entrenamiento repetidamente y basado en la extracción de restauración, y es adecuado cuando la cantidad total de datos no es grande."
      ],
      "metadata": {
        "id": "gJC2xsUmRsrD"
      }
    },
    {
      "cell_type": "markdown",
      "source": [
        "<Font color=red>[Respuesta]</Font>"
      ],
      "metadata": {
        "id": "mtjsbLIFR8WI"
      }
    },
    {
      "cell_type": "markdown",
      "source": [
        "## Pregunta 4.\n",
        "\n",
        "¿Cuál de las siguientes afirmaciones sobre el modelo de árbol de decisión es incorrecta?"
      ],
      "metadata": {
        "id": "l7lrNvb2SB0K"
      }
    },
    {
      "cell_type": "markdown",
      "source": [
        "1. Los árboles de decisión se utilizan para la predicción de quiebras corporativas, la predicción del tope del precio de las acciones, la predicción del tipo de cambio y la predicción de las perspectivas económicas.\n",
        "\n",
        "2. El algoritmo CHAID (detección automática de interacción de chi-cuadrado) es un algoritmo que realiza la separación mediante chi-cuadrado o prueba F.\n",
        "\n",
        "3. El algoritmo CART (árboles de clasificación y regresión) es un algoritmo que realiza la separación utilizando el índice de Gini, y 100 representa un nodo perfectamente puro entre 0 y 100.\n",
        "\n",
        "4. El índice de entropía del algoritmo C4.5 se puede obtener utilizando la estadística de prueba de razón de verosimilitud en la distribución polinómica y restando la entropía del nodo hijo de la entropía del nodo padre."
      ],
      "metadata": {
        "id": "6SCGzLmuSg8b"
      }
    },
    {
      "cell_type": "markdown",
      "source": [
        "<Font color=red>[Respuesta]</Font>\n",
        "\n"
      ],
      "metadata": {
        "id": "odLqMQrNSoRQ"
      }
    },
    {
      "cell_type": "markdown",
      "source": [
        "## Pregunta 5.\n",
        "\n",
        "Cuando entrené un clasificador SVM usando el kernel RBF, parece no adaptarse al conjunto de entrenamiento.<br>\n",
        "¿Debo aumentar o disminuir gamma? <br> ¿Qué pasa con C?"
      ],
      "metadata": {
        "id": "byWtCux4S7Rh"
      }
    },
    {
      "cell_type": "markdown",
      "source": [
        "<Font color=red>[Respuesta]</Font>"
      ],
      "metadata": {
        "id": "oywvS0RkTMCj"
      }
    },
    {
      "cell_type": "markdown",
      "source": [
        "## Pregunta 6.\n",
        "\n",
        "Utilice el algoritmo KNN para clasificar los datos en el código siguiente y calcular la exactitud, la llamada y la precisión. Establezca el valor de adyacencia en 5."
      ],
      "metadata": {
        "id": "cpVjmwteTUL2"
      }
    },
    {
      "cell_type": "code",
      "execution_count": null,
      "metadata": {
        "id": "daWG0g1AQTiQ"
      },
      "outputs": [],
      "source": [
        "import numpy as np\n",
        "from sklearn.datasets import load_breast_cancer\n",
        "from sklearn.model_selection import train_test_split, GridSearchCV\n",
        "from sklearn.neighbors import KNeighborsClassifier\n",
        "from sklearn import metrics, preprocessing\n",
        "\n",
        "# Load data (descargar los datos)\n",
        "data = load_breast_cancer()\n",
        "X = data['data']\n",
        "Y = 1 - data['target']  # 0 = 'benign' and 1 = malignant.  # 0 = benigno y 1 = maligno\n",
        "\n",
        "# Divida el conjunto de datos en entrenamiento y prueba.\n",
        "X_train, X_test, Y_train, Y_test = train_test_split(X, Y, test_size=0.4, random_state=1234)"
      ]
    },
    {
      "cell_type": "markdown",
      "source": [
        "<Font color=red>[Respuesta]</Font>"
      ],
      "metadata": {
        "id": "6KKNokG2TlBO"
      }
    }
  ]
}