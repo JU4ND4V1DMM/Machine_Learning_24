{
  "nbformat": 4,
  "nbformat_minor": 0,
  "metadata": {
    "colab": {
      "provenance": [],
      "collapsed_sections": [
        "Ti-GSFksevBj"
      ]
    },
    "kernelspec": {
      "name": "python3",
      "display_name": "Python 3"
    },
    "language_info": {
      "name": "python"
    }
  },
  "cells": [
    {
      "cell_type": "markdown",
      "source": [
        "# Quiz Capítulo 9"
      ],
      "metadata": {
        "id": "rSO-7wxFenP7"
      }
    },
    {
      "cell_type": "markdown",
      "source": [
        "## Pregunta 1.\n",
        "\n",
        "* El conjunto de datos MNIST consta de imágenes numéricas escritas en cursiva del 0 al 9. Si desea crear una red neuronal que clasifique los datos, ¿cuál es la función de activación de la última capa completamente conectada (=Densa)?"
      ],
      "metadata": {
        "id": "Ti-GSFksevBj"
      }
    },
    {
      "cell_type": "markdown",
      "source": [
        "<Font color=red>[Respuesta]/</Font>"
      ],
      "metadata": {
        "id": "gVFhoFpVe0xB"
      }
    },
    {
      "cell_type": "markdown",
      "source": [],
      "metadata": {
        "id": "Lqbq7CyFsGg2"
      }
    },
    {
      "cell_type": "markdown",
      "source": [
        "## Pregunta 2.\n",
        "\n",
        "* La presión arterial, la altura y el peso forman los vectores de características. El conjunto de entrenamiento se proporciona de la siguiente manera.<br><br>\n",
        "<center>\n",
        "$\\begin{pmatrix}121\\\\1.72\\\\60.9\\end{pmatrix}$,$\\begin{pmatrix}140\\\\1.62\\\\63.2\\end{pmatrix}$,$\\begin{pmatrix}120\\\\1.70\\\\59.0\\end{pmatrix}$,$\\begin{pmatrix}131\\\\1.82\\\\82.0\\end{pmatrix}$,$\\begin{pmatrix}101\\\\1.78\\\\73.5\\end{pmatrix}$</center>\n",
        "<br><br>\n",
        " 1. Suponiendo que el vector de peso del perceptrón es $(-0.01,0.5,-0.23)^T$ y el sesgo es 0, explique el problema de escala con el conjunto de entrenamiento.<br><br>\n",
        " 2. Escriba el conjunto de entrenamiento que resulta después de la aplicación de la fórmula de preprocesamiento a continuación.\n",
        " $x_i^{new}=\\frac{x_i^{old}-\\mu_i}{\\sigma_i}$  (5.9)<br><br>\n",
        " 3.  Explique su observación de si este preprocesamiento de datos alivia el problema de escala.<br><br>"
      ],
      "metadata": {
        "id": "ZIxbYfUbfHXn"
      }
    },
    {
      "cell_type": "markdown",
      "source": [
        "`Nota`: Un perceptrón es la unidad fundamental de procesamiento en las redes neuronales y es una representación simplificada de una neurona biológica. Fue propuesto por Frank Rosenblatt en 1957 y se considera el bloque de construcción básico de las redes neuronales.\n",
        "\n",
        "Conceptualmente, un perceptrón toma varias entradas, aplica pesos a estas entradas, las suma y luego aplica una función de activación a la suma ponderada. Matemáticamente, se puede expresar como sigue:\n",
        "\n",
        "1. Se tienen entradas $(x_1, x_2, \\ldots, x_n$).\n",
        "2. Se tienen pesos asociados $(w_1, w_2, \\ldots, w_n$).\n",
        "3. Se calcula la suma ponderada: $(z = w_1x_1 + w_2x_2 + \\ldots + w_nx_n$).\n",
        "4. Se aplica una función de activación: $(a = f(z)$).\n",
        "\n",
        "La función de activación suele ser una función escalón (como la función escalón de Heaviside) o la función de activación de la unidad lineal rectificada (ReLU) en versiones más modernas de perceptrones.\n",
        "\n",
        "El resultado $\\alpha$ es la salida del `perceptrón`. En el contexto de una red neuronal, la salida del `perceptrón` se pasa como entrada a otras capas de perceptrones o unidades, formando así una red más compleja. Los pesos $w$ se ajustan durante el entrenamiento de la red para que la red pueda aprender a realizar tareas específicas, como la clasificación o la regresión."
      ],
      "metadata": {
        "id": "XWUmlGF-s3fN"
      }
    },
    {
      "cell_type": "markdown",
      "source": [
        "<Font color=red>[Respuestas]/</Font>"
      ],
      "metadata": {
        "id": "k4iVIF6ThmXb"
      }
    },
    {
      "cell_type": "markdown",
      "source": [
        "1."
      ],
      "metadata": {
        "id": "wSxjAciisLjW"
      }
    },
    {
      "cell_type": "markdown",
      "source": [
        "2."
      ],
      "metadata": {
        "id": "LGHeSMOwsMga"
      }
    },
    {
      "cell_type": "code",
      "source": [
        "## Respuesta 2.2\n",
        "\n",
        "import numpy as np"
      ],
      "metadata": {
        "id": "liZ4hsd8qF50"
      },
      "execution_count": null,
      "outputs": []
    },
    {
      "cell_type": "markdown",
      "source": [
        "3."
      ],
      "metadata": {
        "id": "cEbph7XgsNee"
      }
    },
    {
      "cell_type": "markdown",
      "source": [
        "## Pregunta 3."
      ],
      "metadata": {
        "id": "a8mUvqFRmwPZ"
      }
    },
    {
      "cell_type": "markdown",
      "source": [
        "Las redes neuronales y las capas de convolución se repiten varias veces en el aprendizaje profundo y esto provoca que algunos nodos se omitan en gran medida. ¿Qué técnica puedes utilizar para prevenir este problema?"
      ],
      "metadata": {
        "id": "-wqBj55smuiD"
      }
    },
    {
      "cell_type": "markdown",
      "source": [
        "<Font color=red>[Respuesta]/</Font>"
      ],
      "metadata": {
        "id": "i2dFLhz5m3F_"
      }
    },
    {
      "cell_type": "markdown",
      "source": [],
      "metadata": {
        "id": "3dODfLrtsdIM"
      }
    },
    {
      "cell_type": "markdown",
      "source": [
        "## Pregunta 4.\n",
        "\n",
        "La inicialización del peso debería generar números aleatorios en el rango [-1,1]. Proporcione el código en Python que realiza esta función."
      ],
      "metadata": {
        "id": "Mb31ed-jnCyr"
      }
    },
    {
      "cell_type": "markdown",
      "source": [
        "<Font color=red>[Respuesta]/</Font>\n"
      ],
      "metadata": {
        "id": "MlEk13NMnq4k"
      }
    },
    {
      "cell_type": "code",
      "execution_count": null,
      "metadata": {
        "id": "2EG8pfjued-W"
      },
      "outputs": [],
      "source": [
        "## 4. Respuesta\n"
      ]
    },
    {
      "cell_type": "markdown",
      "source": [
        "## Pregunta 5.\n",
        "\n",
        "Deseas entrenar un clasificador cuando tiene muchos datos de entrenamiento sin etiquetar pero solo unos pocos miles de datos etiquetados. Describe cómo el codificador automático puede ser útil y cómo funciona."
      ],
      "metadata": {
        "id": "LfDIJFg6n_0h"
      }
    },
    {
      "cell_type": "markdown",
      "source": [
        "<Font color=red>[Respuesta]/</Font>"
      ],
      "metadata": {
        "id": "S4RqYcGyoP_K"
      }
    },
    {
      "cell_type": "markdown",
      "source": [],
      "metadata": {
        "id": "QB5Z0OALslaW"
      }
    },
    {
      "cell_type": "markdown",
      "source": [
        "## Pregunta 6.\n",
        "\n",
        "Entrena el modelo de clasificación del conjunto de datos 'Fashion-mnist' con relación al siguiente código."
      ],
      "metadata": {
        "id": "0XiftaUPo89C"
      }
    },
    {
      "cell_type": "code",
      "source": [
        "import tensorflow as tf\n",
        "import numpy as np\n",
        "import pandas as pd\n",
        "from tensorflow.keras.datasets.fashion_mnist import load_data\n",
        "\n",
        "# Cargar datos\n",
        "(X_train, y_train), (X_test, y_test) = load_data()\n",
        "\n",
        "# procesamiento de datos\n",
        "X_train = X_train.reshape((-1, 28, 28, 1))\n",
        "X_train = X_train/255\n",
        "X_test = X_test.reshape((-1, 28, 28, 1))\n",
        "X_test = X_test/255\n",
        "\n",
        "# parámetros de entrenamiento\n",
        "batch_size = 8\n",
        "n_epochs  = 20\n",
        "learn_rate = 0.0001\n",
        "\n",
        "# modelo\n",
        "model = tf.keras.Sequential()\n",
        "model.add(tf.keras.Input(shape=(28, 28, 1)))\n",
        "\n",
        "# Por favor complete el modelo basado en CNN y entrene."
      ],
      "metadata": {
        "id": "rILlDzuOpPIB"
      },
      "execution_count": null,
      "outputs": []
    },
    {
      "cell_type": "markdown",
      "source": [
        "<Font color=red>[Respuesta]/</Font>"
      ],
      "metadata": {
        "id": "CP0ZTt62p4B-"
      }
    },
    {
      "cell_type": "code",
      "source": [],
      "metadata": {
        "id": "m0dwqOCwpsDI"
      },
      "execution_count": null,
      "outputs": []
    }
  ]
}