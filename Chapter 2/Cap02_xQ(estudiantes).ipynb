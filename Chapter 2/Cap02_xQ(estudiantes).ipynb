{
  "nbformat": 4,
  "nbformat_minor": 0,
  "metadata": {
    "colab": {
      "provenance": []
    },
    "kernelspec": {
      "name": "python3",
      "display_name": "Python 3"
    },
    "language_info": {
      "name": "python"
    }
  },
  "cells": [
    {
      "cell_type": "markdown",
      "source": [
        "# Curso AI - Capítulo 2. Quiz\n",
        "* Para estudiantes"
      ],
      "metadata": {
        "id": "klcDq9YAdT5A"
      }
    },
    {
      "cell_type": "markdown",
      "source": [
        "## Pregunta 1.\n",
        "\n",
        "Crea ejemplos de vector cero, vector unitario, matriz cuadrada, matriz diagonal, matriz identidad y matriz simétrica uno por uno, y representa los  vectores (todos deben ser tipo columna) y matrices con NumPy.\n"
      ],
      "metadata": {
        "id": "Q1FZTG5ld0Z5"
      }
    },
    {
      "cell_type": "markdown",
      "source": [
        "[Respuesta]"
      ],
      "metadata": {
        "id": "rHUPGfp4d2YD"
      }
    },
    {
      "cell_type": "code",
      "source": [
        "# vector cero"
      ],
      "metadata": {
        "id": "IF4XtMKmnmeU"
      },
      "execution_count": null,
      "outputs": []
    },
    {
      "cell_type": "code",
      "source": [
        "# vector unos"
      ],
      "metadata": {
        "id": "Uvth7YXStrUg"
      },
      "execution_count": null,
      "outputs": []
    },
    {
      "cell_type": "code",
      "source": [
        "# matriz cuadrada"
      ],
      "metadata": {
        "id": "2EgNqzx2trKx"
      },
      "execution_count": null,
      "outputs": []
    },
    {
      "cell_type": "code",
      "source": [
        "# matriz diagonal"
      ],
      "metadata": {
        "id": "VZl8srCttq0p"
      },
      "execution_count": null,
      "outputs": []
    },
    {
      "cell_type": "code",
      "source": [
        "# matriz identidad"
      ],
      "metadata": {
        "id": "w-ZzL6nktqoe"
      },
      "execution_count": null,
      "outputs": []
    },
    {
      "cell_type": "code",
      "source": [
        "# matrix simetrica"
      ],
      "metadata": {
        "id": "mt6289jTUMFz"
      },
      "execution_count": null,
      "outputs": []
    },
    {
      "cell_type": "markdown",
      "source": [
        "## Pregunta 2.\n",
        "\n",
        "Las participaciones de tres empresas A, B y C son 1 millón de wones, 800.000 wones y 500.000 wones, respectivamente. Queremos encontrar la cantidad necesaria para comprar 3, 4 y 5 participaciones de estas acciones, respectivamente.\n",
        " 1. Expresa el precio y la cantidad de las acciones como vector p y vector n, respectivamente y codifica con NumPy.\n",
        " 2. La cantidad necesaria para comprar acciones se expresa mediante la multiplicación y el valor se calcula mediante la operación Numpy.\n",
        "\n"
      ],
      "metadata": {
        "id": "6ucdYI6pfpVO"
      }
    },
    {
      "cell_type": "markdown",
      "source": [
        "[Respuesta 1]"
      ],
      "metadata": {
        "id": "lprvgwrp-tIo"
      }
    },
    {
      "cell_type": "code",
      "source": [],
      "metadata": {
        "id": "4ch3o21sUHZ_"
      },
      "execution_count": null,
      "outputs": []
    },
    {
      "cell_type": "markdown",
      "source": [
        "[Respuesta 2]\n"
      ],
      "metadata": {
        "id": "CuQo1QnqgJo-"
      }
    },
    {
      "cell_type": "code",
      "source": [],
      "metadata": {
        "id": "uBk6OIlNUFXG"
      },
      "execution_count": null,
      "outputs": []
    },
    {
      "cell_type": "markdown",
      "source": [
        "## Pregunta 3.\n",
        "\n",
        "Cuando se ejecuta el siguiente código, todos los datos de la imagen numérica MNIST se convierten en vectores para crear una única matriz NumPy X. Utiliza esta matriz para resolver el siguiente problema.\n",
        "\n",
        "\n",
        "\n"
      ],
      "metadata": {
        "id": "D-Epa2_FhTxd"
      }
    },
    {
      "cell_type": "code",
      "source": [
        "from sklearn.datasets import load_digits\n",
        "X=load_digits().data"
      ],
      "metadata": {
        "id": "R-MftD3thcvO"
      },
      "execution_count": null,
      "outputs": []
    },
    {
      "cell_type": "markdown",
      "source": [
        "1. Encuentra la similitud entre la primera imagen y la décima imagen usando el producto escalar.\n"
      ],
      "metadata": {
        "id": "E0iULiblhfUh"
      }
    },
    {
      "cell_type": "markdown",
      "source": [
        "[Respuesta 1]"
      ],
      "metadata": {
        "id": "ZRzMCSrt-43L"
      }
    },
    {
      "cell_type": "markdown",
      "source": [
        "2. Encuentra la similitud para una combinación de todas las imágenes usando el producto escalar, ¿Cómo sería eficiente implementarlo (pista: usando matrices y multiplicación de matrices)?"
      ],
      "metadata": {
        "id": "BCBgAB2AhzV8"
      }
    },
    {
      "cell_type": "markdown",
      "source": [
        "[Respuesta 2]"
      ],
      "metadata": {
        "id": "-Vb3qQjs-66F"
      }
    },
    {
      "cell_type": "code",
      "source": [],
      "metadata": {
        "id": "3k1C0B_5h4ya"
      },
      "execution_count": null,
      "outputs": []
    },
    {
      "cell_type": "markdown",
      "source": [
        "## Pregunta 4.\n",
        "\n",
        "4. Calcula la siguiente matriz inversa.\n",
        "\n",
        "$\\begin{pmatrix}2&0\\\\0&1\\end{pmatrix}^{-1}$\n",
        "\n",
        "\n"
      ],
      "metadata": {
        "id": "rQJq311ehu1I"
      }
    },
    {
      "cell_type": "markdown",
      "source": [
        "[Respuesta]"
      ],
      "metadata": {
        "id": "icm0u_1Q_BEU"
      }
    },
    {
      "cell_type": "code",
      "source": [],
      "metadata": {
        "id": "6HOl6meOU6d2"
      },
      "execution_count": null,
      "outputs": []
    },
    {
      "cell_type": "markdown",
      "source": [
        "## Pregunta 5.\n",
        "\n",
        "El problema del precio de la vivienda en Boston es un problema de predicción del precio de la vivienda en cada sector de Boston, EE. UU., utilizando características como la tasa de criminalidad y la contaminación del aire en el sector. Se puede importar desde la función load_boston. Encuentre el vector de peso x cuando el problema del precio de la vivienda en Boston se resuelve con el modelo de predicción lineal Ax=$\\hat{b}$. Los datos matriciales y vectoriales se pueden obtener de la siguiente manera.\n",
        "\n",
        "Aquí, para simplificar el problema, limitamos los datos de entrada a la tasa de criminalidad (CRIM), la calidad del aire (NOX), el número de habitaciones (RM) y la edad (AGE), y solo se utilizaron cuatro datos.\n",
        "\n",
        "Ejecuta el siguiente código para comprobar si la magnitud o el signo del vector de peso obtenido al ejecutar el programa es coherente con las nociones comunes. Para encontrarlo, interpreta la salida impresa para todos los factores: CRIM, NOX, RM y AGE.\n",
        "※ Escribe el resultado interpretado como “el precio de la vivienda es inversamente proporcional a la tasa de criminalidad (CRIM)”."
      ],
      "metadata": {
        "id": "_xVKgwT_jF4R"
      }
    },
    {
      "cell_type": "code",
      "source": [
        "import pandas as pd\n",
        "import numpy as np\n",
        "\n",
        "def load_boston():\n",
        "    data_url = \"http://lib.stat.cmu.edu/datasets/boston\"\n",
        "    raw_df = pd.read_csv(data_url, sep=\"\\s+\", skiprows=22, header=None)\n",
        "    data = np.hstack([raw_df.values[::2, :], raw_df.values[1::2, :2]])\n",
        "    target = raw_df.values[1::2, 2]\n",
        "    return {'data': data, 'target': target}\n",
        "\n",
        "\n",
        "boston=load_boston()\n",
        "X=boston['data']\n",
        "y=boston['target']\n",
        "A = X[:4, [0,4,5,6]] # 'CRIM', 'NOX', 'RM', 'AGE'\n",
        "b = y[:4]\n"
      ],
      "metadata": {
        "id": "25-WCz-9jeJd"
      },
      "execution_count": null,
      "outputs": []
    },
    {
      "cell_type": "code",
      "source": [],
      "metadata": {
        "id": "qrfF3Es8CvlX"
      },
      "execution_count": null,
      "outputs": []
    },
    {
      "cell_type": "markdown",
      "source": [
        "<font color = red>[Interpreta el resultado]</font>\n",
        "\n"
      ],
      "metadata": {
        "id": "ROWgrdqfCysF"
      }
    },
    {
      "cell_type": "markdown",
      "source": [
        "## Pregunta 6.\n",
        "\n",
        "Encuentra el vector de peso w cuando el problema del precio de la vivienda en Boston se resuelve con el modelo de predicción lineal $X_w = \\hat{y}$  mediante el método de mínimos cuadrados. Los datos matriciales y vectoriales se pueden obtener de la siguiente manera.\n",
        "\n",
        "※ Esta pregunta está relacionada con la Pregunta 5."
      ],
      "metadata": {
        "id": "4BbsHrQxod4S"
      }
    },
    {
      "cell_type": "code",
      "source": [
        "import pandas as pd\n",
        "import numpy as np\n",
        "\n",
        "def load_boston():\n",
        "    data_url = \"http://lib.stat.cmu.edu/datasets/boston\"\n",
        "    raw_df = pd.read_csv(data_url, sep=\"\\s+\", skiprows=22, header=None)\n",
        "    data = np.hstack([raw_df.values[::2, :], raw_df.values[1::2, :2]])\n",
        "    target = raw_df.values[1::2, 2]\n",
        "    return {'data': data, 'target': target}\n",
        "\n",
        "\n",
        "boston = load_boston()\n",
        "X = boston['data']\n",
        "y = boston['target']"
      ],
      "metadata": {
        "id": "c65U_682o7dL"
      },
      "execution_count": null,
      "outputs": []
    },
    {
      "cell_type": "markdown",
      "source": [
        "El significado de cada columna de la matriz X es el siguiente.<br>\n",
        "\n",
        "* CRIM: tasa de criminalidad\n",
        "* INDUS: Proporción de superficie comercial no minorista\n",
        "* NOX: Concentración de Óxido Nítrico\n",
        "* RM: Número de habitaciones por casa\n",
        "* LSTAT: Proporción de la clase baja de la población\n",
        "* B: Proporción de afro estadounidenses en la población\n",
        "* PTRATIO: Proporción Estudiante/Maestro\n",
        "* ZN: Porcentaje de áreas residenciales que superan los 25.000 pies cuadrados\n",
        "* CHAS: 1 si está ubicado en la frontera del río Charles, 0 en caso contrario\n",
        "* AGE: Porcentaje de casas construidas antes de 1940\n",
        "* RAD: Distancia a la carretera radial\n",
        "* DIS: Distancia promedio ponderada a 5 centros de empleo de Boston\n",
        "* TAX: tasa de impuesto a la propiedad"
      ],
      "metadata": {
        "id": "LrcN-sxRpHPH"
      }
    },
    {
      "cell_type": "markdown",
      "source": [
        " 1. Ejecuta el programa anterior para verificar si la magnitud o el signo del vector de peso obtenido al ejecutar el programa es consistente con las nociones comunes. Para encontrarlo, interpreta el resultado impreso teniendo en cuenta todos los factores sugeridos anteriormente.\n",
        "\n",
        " ※ Escribe el resultado interpretado como “el precio de la vivienda es inversamente proporcional a la tasa de criminalidad (CRIM)”."
      ],
      "metadata": {
        "id": "Au8GI5z7p19I"
      }
    },
    {
      "cell_type": "markdown",
      "source": [
        "[Respuesta 1]"
      ],
      "metadata": {
        "id": "Dnap-lqHqN4O"
      }
    },
    {
      "cell_type": "code",
      "source": [],
      "metadata": {
        "id": "RQ_Q-T_1DBYN"
      },
      "execution_count": null,
      "outputs": []
    },
    {
      "cell_type": "markdown",
      "source": [
        "<font color=red>[Interpreta el resultado]</font>\n",
        "\n",
        "\n"
      ],
      "metadata": {
        "id": "rHEew-JADVpU"
      }
    },
    {
      "cell_type": "markdown",
      "source": [
        " 2. Explica en qué se diferencia el resultado del valor obtenido en la pregunta 5."
      ],
      "metadata": {
        "id": "xRcAYTENqBYE"
      }
    },
    {
      "cell_type": "markdown",
      "source": [
        "[Respuesta 2]"
      ],
      "metadata": {
        "id": "ZIPl6jg6smpM"
      }
    },
    {
      "cell_type": "markdown",
      "source": [
        "## Pregunta 7.\n",
        "\n",
        "Las calificaciones otorgadas por tres usuarios a, b y c a 4 películas se expresan como vectores de la siguiente manera.\n",
        "\n",
        "<center>\n",
        "$a = \\begin{pmatrix}4\\\\5\\\\2\\\\2\\end{pmatrix},\n",
        "b = \\begin{pmatrix}4\\\\0\\\\2\\\\0\\end{pmatrix},\n",
        "c = \\begin{pmatrix}2\\\\2\\\\0\\\\1\\end{pmatrix} $\n",
        "</center>\n",
        "<br>\n",
        "\n",
        " 1. Encuentra la distancia euclidiana entre a, b y c. ¿Cuáles dos usuarios son los más cercanos? ¿Y cuáles son los dos usuarios más alejados?<br><br>\n",
        " 2. Encuentra la distancia del coseno entre a, b y c. ¿Cuáles dos usuarios son los más cercanos? ¿Y cuáles son los dos usuarios más alejados?"
      ],
      "metadata": {
        "id": "Ci8THPWAqIMG"
      }
    },
    {
      "cell_type": "markdown",
      "source": [
        "[Respuesta 1]"
      ],
      "metadata": {
        "id": "l3cdgiPSvdXY"
      }
    },
    {
      "cell_type": "code",
      "source": [],
      "metadata": {
        "id": "3NONT-MR_2TR"
      },
      "execution_count": null,
      "outputs": []
    },
    {
      "cell_type": "markdown",
      "source": [
        "[Respuesta 2]\n"
      ],
      "metadata": {
        "id": "m1-CdzDivc8x"
      }
    },
    {
      "cell_type": "code",
      "source": [],
      "metadata": {
        "id": "fdMlzwsB_5MJ"
      },
      "execution_count": null,
      "outputs": []
    },
    {
      "cell_type": "markdown",
      "source": [
        "## Pregunta 8.\n",
        "\n",
        "Encuentra algebraicamente los valores propios de la siguiente matriz usando la ecuación característica.\n",
        "\n",
        "$D=\\begin{pmatrix}2&1\\\\1&2\\end{pmatrix}$"
      ],
      "metadata": {
        "id": "leZ6flLqvt1x"
      }
    },
    {
      "cell_type": "markdown",
      "source": [
        "[Respuesta]"
      ],
      "metadata": {
        "id": "qldQOGUgwNeN"
      }
    },
    {
      "cell_type": "markdown",
      "source": [
        "## Pregunta 9.\n",
        "\n",
        "El valor de $log2$ es aproximadamente 0,69 y el valor de $log3$ es aproximadamente 1,10. Encuentra el valor de $log12$."
      ],
      "metadata": {
        "id": "uUyVyXzHxtRG"
      }
    },
    {
      "cell_type": "markdown",
      "source": [
        "[Respuesta]"
      ],
      "metadata": {
        "id": "dCvbdZnKyGbb"
      }
    },
    {
      "cell_type": "markdown",
      "source": [
        "## Pregunta 10.\n",
        "\n",
        "Encuentra algebraicamente la función inversa de la función logística.\n",
        "\n",
        "\n",
        "$y = σ(x) = \\frac{1}{1+exp⁡(-x)}$"
      ],
      "metadata": {
        "id": "gTzRi8nYyL5C"
      }
    },
    {
      "cell_type": "markdown",
      "source": [
        "[Respuesta]"
      ],
      "metadata": {
        "id": "z1G5tYeOykDG"
      }
    },
    {
      "cell_type": "markdown",
      "source": [
        "## Pregunta 11.\n",
        "\n",
        "Obtén `algebraicamente` la derivada de las siguientes funciones. En esta ecuación, $k$, $a$ y $b$ son constantes, no variables.\n",
        "\n",
        " A) $f(x) = x^3-1 $<br>\n",
        " B) $f(x) = log(x^2-3k) $<br>\n",
        " C) $f(x) = exp(ax^b) $<br>"
      ],
      "metadata": {
        "id": "vz9ivzEp2ilo"
      }
    },
    {
      "cell_type": "markdown",
      "source": [
        "[Respuesta]\n",
        "\n",
        "1) <br>\n",
        "\n",
        "\n",
        "2) <br>\n",
        "\n",
        "\n",
        "3) <br>\n"
      ],
      "metadata": {
        "id": "WI7k-_YB3Xwg"
      }
    },
    {
      "cell_type": "markdown",
      "source": [
        "## Pregunta 12.\n",
        "\n",
        "Encuentra `algebraicamente`  la primera/segunda derivada parcial $f_x, f_y, f_{xx}, f_{xy}, f_{yx}, f_{yy}$ para la siguiente función.\n",
        "\n",
        "$f(x,y) = exp(x^2+2y^2)$"
      ],
      "metadata": {
        "id": "SgHhD4cA5xvl"
      }
    },
    {
      "cell_type": "markdown",
      "source": [
        "[Respuesta]\n"
      ],
      "metadata": {
        "id": "aYbEoKRM6SpZ"
      }
    },
    {
      "cell_type": "markdown",
      "source": [
        "## Pregunta 13.\n",
        "\n",
        "Encuentra la derivada para las siguientes funciones usando SymPy. En estas expresiones, $k$, $a$ y $b$ son constantes, no son variables.\n",
        "\n",
        " A) $f(x) = x^3-1$<br>\n",
        " B) $f(x) = log (x^2-3k) $<br>\n",
        " C) $f(x) =exp(ax^b)$<br>"
      ],
      "metadata": {
        "id": "FfZag7-z7q4k"
      }
    },
    {
      "cell_type": "markdown",
      "source": [
        "[Respuesta]"
      ],
      "metadata": {
        "id": "Pv-I98eH8ehD"
      }
    },
    {
      "cell_type": "code",
      "source": [],
      "metadata": {
        "id": "titCAx7YAUK6"
      },
      "execution_count": null,
      "outputs": []
    },
    {
      "cell_type": "markdown",
      "source": [
        "[Respuesta]\n",
        "\n"
      ],
      "metadata": {
        "id": "HSWHvnSOdRbI"
      }
    },
    {
      "cell_type": "code",
      "source": [],
      "metadata": {
        "id": "gJ7tRHAbBT6z"
      },
      "execution_count": null,
      "outputs": []
    },
    {
      "cell_type": "markdown",
      "source": [
        "[Respuesta]"
      ],
      "metadata": {
        "id": "VpuQSQPwBUya"
      }
    },
    {
      "cell_type": "code",
      "source": [],
      "metadata": {
        "id": "YaK-c-BdBXs3"
      },
      "execution_count": null,
      "outputs": []
    },
    {
      "cell_type": "markdown",
      "source": [
        "## Pregunta 14.\n",
        "\n",
        "Encuentre la primera/segunda derivada parcial $f_x, f_y, f_{xx}, f_{xy}, f_{yx}, f_{yy}$ para la siguiente función usando SymPy.\n",
        "\n",
        "$f(x,y) = exp(x^2+2y^2)$"
      ],
      "metadata": {
        "id": "9iGChlNcBRYS"
      }
    },
    {
      "cell_type": "markdown",
      "source": [
        "[Respuestas]"
      ],
      "metadata": {
        "id": "51RqVaSUtbL2"
      }
    },
    {
      "cell_type": "code",
      "source": [],
      "metadata": {
        "id": "9u-uLrnk-YRg"
      },
      "execution_count": null,
      "outputs": []
    },
    {
      "cell_type": "code",
      "source": [],
      "metadata": {
        "id": "YNKavbuAtetd"
      },
      "execution_count": null,
      "outputs": []
    },
    {
      "cell_type": "code",
      "source": [],
      "metadata": {
        "id": "rwwq0_-otelH"
      },
      "execution_count": null,
      "outputs": []
    },
    {
      "cell_type": "code",
      "source": [],
      "metadata": {
        "id": "J19nmzVltecM"
      },
      "execution_count": null,
      "outputs": []
    },
    {
      "cell_type": "code",
      "source": [],
      "metadata": {
        "id": "L13V-w6-teP8"
      },
      "execution_count": null,
      "outputs": []
    },
    {
      "cell_type": "code",
      "source": [],
      "metadata": {
        "id": "Y82EIHHbti6m"
      },
      "execution_count": null,
      "outputs": []
    },
    {
      "cell_type": "code",
      "source": [],
      "metadata": {
        "id": "s70HtKdHtiwG"
      },
      "execution_count": null,
      "outputs": []
    }
  ]
}