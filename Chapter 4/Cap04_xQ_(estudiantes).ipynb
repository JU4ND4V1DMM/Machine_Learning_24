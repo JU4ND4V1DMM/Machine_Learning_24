{
  "nbformat": 4,
  "nbformat_minor": 0,
  "metadata": {
    "colab": {
      "provenance": [],
      "toc_visible": true
    },
    "kernelspec": {
      "name": "python3",
      "display_name": "Python 3"
    },
    "language_info": {
      "name": "python"
    }
  },
  "cells": [
    {
      "cell_type": "markdown",
      "source": [
        "# 1. ¿Qué es incorrecto como una interpretación en una prueba de hipótesis estadística?"
      ],
      "metadata": {
        "id": "YKSH7jV5DPFa"
      }
    },
    {
      "cell_type": "markdown",
      "source": [
        "1.1 En análisis estadístico, una prueba unilateral indica que la hipótesis nula para el parámetro es $H_0 : \\theta = \\theta_0 $ y la hipótesis alternativa se puede definir como $H_1 : \\theta < \\theta_0$ o $H_1 : \\theta > \\theta_0 $.\n",
        "\n",
        "<br>\n",
        "\n",
        "1.2 El error tipo I es la probabilidad de rechazar la hipótesis nula verdadera. El nivel de significancia (α) es el valor máximo de la probabilidad de significancia (p) para el que se rechaza la hipótesis nula.\n",
        "\n",
        "<br>\n",
        "\n",
        "1.3 Si la probabilidad de significancia p es mayor que el nivel de significancia $α \\ (p > α)$, se rechaza la hipótesis nula y se adopta la hipótesis alternativa.\n",
        "\n",
        "<br>\n",
        "\n",
        "1.4 Una muestra pequeña puede tener baja potencia, lo que aumenta la probabilidad de un error tipo II (no rechazar la hipótesis nula cuando es falsa). <br>"
      ],
      "metadata": {
        "id": "btETFPiyAoAe"
      }
    },
    {
      "cell_type": "markdown",
      "source": [
        "# 2. Suponiendo que me caso y tengo tres hijos, y que la variable aleatoria $X$ es el número de hijos varones.\n",
        "\n",
        "- ¿Cuál es la probabilidad de tener dos hijos varones en este caso? (se supone que la probabilidad de tener un hijo varón o mujer es la misma).\n",
        "\n",
        "- Calcule la media y la varianza de $X$"
      ],
      "metadata": {
        "id": "QDOGEyGwDJsk"
      }
    },
    {
      "cell_type": "markdown",
      "source": [
        "# 3. Cuando sigue una variable aleatoria $X \\sim N(\\mu,\\sigma^2)$, ¿cuál de las siguientes es correcta como expresión estandarizada?"
      ],
      "metadata": {
        "id": "p5OCg8ENDLBc"
      }
    },
    {
      "cell_type": "markdown",
      "source": [
        "1. <p>1/x</p>\n",
        "2. <p>(x - $μ$ ) / $\\sigma$</p>\n",
        "3. <p>(x - $\\sigma$ ) /$μ$</p>\n",
        "4. <p>(x - $μ$   ) </p>"
      ],
      "metadata": {
        "id": "rmpU4YaJHZq4"
      }
    },
    {
      "cell_type": "markdown",
      "source": [
        "# 4. Si se seleccionara una muestra de 100 personas para saber si la satisfacción con dos sujetos difería según el género, ¿qué estadística sería la más adecuada en este caso?\n"
      ],
      "metadata": {
        "id": "wNSacRKjFMdF"
      }
    },
    {
      "cell_type": "markdown",
      "source": [
        "1. <p>t</p>\n",
        "2. <p>$χ^2$</p>\n",
        "3. <p>Z</p>\n",
        "4. <p>F</p>"
      ],
      "metadata": {
        "id": "xFzz_mb1HqdR"
      }
    },
    {
      "cell_type": "markdown",
      "source": [
        "# 5. Entre los estudiantes que tomaron la clase de Información y Estadística, se seleccionaron aleatoriamente 30 estudiantes. Al investigar el promedio de sus calificaciones, la media fue 80 y la varianza fue 9. Encuentre un intervalo de confianza del 95% para el promedio de sus calificaciones."
      ],
      "metadata": {
        "id": "lG40PVZjF4xM"
      }
    },
    {
      "cell_type": "markdown",
      "source": [
        "# 6. Encuentre la variable que esté más correlacionada con la columna `target` partiendo del dataframe `df` generado por el siguiente código."
      ],
      "metadata": {
        "id": "G4HbTM28GD-3"
      }
    },
    {
      "cell_type": "code",
      "source": [
        "import numpy as np\n",
        "import pandas as pd\n",
        "from sklearn.datasets import load_breast_cancer\n",
        "\n",
        "\n",
        "# cargar los datos.\n",
        "data = load_breast_cancer()\n",
        "# crear DataFrame\n",
        "df = pd.DataFrame(data.data, columns=[data.feature_names])\n",
        "df = df.assign(target=pd.Series(1 - data.target))"
      ],
      "metadata": {
        "id": "6xsfFD76GQIl"
      },
      "execution_count": null,
      "outputs": []
    }
  ]
}