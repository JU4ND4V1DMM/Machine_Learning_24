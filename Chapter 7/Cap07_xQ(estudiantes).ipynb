{
  "nbformat": 4,
  "nbformat_minor": 0,
  "metadata": {
    "colab": {
      "provenance": []
    },
    "kernelspec": {
      "name": "python3",
      "display_name": "Python 3"
    },
    "language_info": {
      "name": "python"
    }
  },
  "cells": [
    {
      "cell_type": "markdown",
      "source": [
        "# Quiz Capítulo 7\n",
        "\n",
        "* **Estudiantes**"
      ],
      "metadata": {
        "id": "kSAVCYWjdRtB"
      }
    },
    {
      "cell_type": "markdown",
      "source": [
        "## Pregunta 1.\n",
        "\n",
        "¿Cuál de las siguientes afirmaciones sobre la minería de textos es incorrecta?\n"
      ],
      "metadata": {
        "id": "aUMUWox2dXeh"
      }
    },
    {
      "cell_type": "markdown",
      "source": [
        "1. Puedes conocer la reacción ante un grupo específico.\n",
        "2. Se puede obtener información sobre clientes potenciales de ventas.\n",
        "3. Se pueden establecer estrategias competitivas monitoreando otras marcas.\n",
        "4. El mismo método se puede aplicar a varios idiomas.\n"
      ],
      "metadata": {
        "id": "TOD_t6-hdqmV"
      }
    },
    {
      "cell_type": "markdown",
      "source": [
        "<font color=red>[Respuesta]</font>"
      ],
      "metadata": {
        "id": "K6KikeW0dvH9"
      }
    },
    {
      "cell_type": "markdown",
      "source": [
        "## Pregunta 2.\n",
        "\n",
        "¿Cuál de las siguientes afirmaciones `no` es cierta sobre el uso de las redes sociales?\n"
      ],
      "metadata": {
        "id": "B6hbQUywd86e"
      }
    },
    {
      "cell_type": "markdown",
      "source": [
        "1. Es posible saber de cuántos grupos está compuesta la red.\n",
        "2. Es posible conocer clientes influyentes.\n",
        "3. Es posible saber ver el cambio a lo largo del tiempo.\n",
        "4. Es posible saber si los clientes se irán la próxima vez."
      ],
      "metadata": {
        "id": "nNL_EvqVeF1t"
      }
    },
    {
      "cell_type": "markdown",
      "source": [
        "<font color=red>[Respuesta]</font>"
      ],
      "metadata": {
        "id": "EIjxSlhieK-M"
      }
    },
    {
      "cell_type": "markdown",
      "source": [
        "## Pregunta 3.\n",
        "\n",
        "¿Qué término significa separar una raíz de una palabra cuya forma ha sido modificada para extraer la palabra que es objeto de análisis de morfema?\n"
      ],
      "metadata": {
        "id": "KcngqUeLeNE8"
      }
    },
    {
      "cell_type": "markdown",
      "source": [
        "<font color=red>[Respuesta]</font>"
      ],
      "metadata": {
        "id": "euA5S0VXehf7"
      }
    },
    {
      "cell_type": "markdown",
      "source": [
        "## Pregunta 4.\n",
        "\n",
        "¿Qué término se le da al conjunto de materiales que pueden mostrar los aspectos esenciales del lenguaje como material de investigación requerido en cada campo de la investigación del lenguaje?\n"
      ],
      "metadata": {
        "id": "qAHSL5HwesWz"
      }
    },
    {
      "cell_type": "markdown",
      "source": [
        "<font color=red>[Respuesta]</font>"
      ],
      "metadata": {
        "id": "3xu8rvmMe7Lh"
      }
    },
    {
      "cell_type": "markdown",
      "source": [
        "## Pregunta 5.\n",
        "\n",
        "Explique sobre TF (frecuencia de términos) y escriba cómo calcular TF (fórmula).\n"
      ],
      "metadata": {
        "id": "WCaGK3hoe-UE"
      }
    },
    {
      "cell_type": "markdown",
      "source": [
        "<font color=red>[Respuesta]</font>"
      ],
      "metadata": {
        "id": "2nimkhTBfJPv"
      }
    },
    {
      "cell_type": "markdown",
      "source": [
        "## Pregunta 6.\n",
        "\n",
        "Encuentra la declaración más similar usando TF-IDF y similitud de coseno con referencia al siguiente código."
      ],
      "metadata": {
        "id": "_5jgY26QgZ9Q"
      }
    },
    {
      "cell_type": "code",
      "source": [
        "import nltk\n",
        "import numpy as np\n",
        "from nltk.corpus import stopwords\n",
        "from sklearn.feature_extraction.text import TfidfVectorizer\n",
        "from sklearn.metrics import pairwise_distances"
      ],
      "metadata": {
        "id": "fi2MnLHFg1-3"
      },
      "execution_count": null,
      "outputs": []
    },
    {
      "cell_type": "code",
      "source": [
        "nltk.download('stopwords')"
      ],
      "metadata": {
        "id": "Lr0_aTpzhrDX"
      },
      "execution_count": null,
      "outputs": []
    },
    {
      "cell_type": "code",
      "source": [
        "doc = [\n",
        "    \"AI is a rapidly advancing field that involves the development of intelligent machines.\",\n",
        "    \"Machine learning is a subset of AI that focuses on training machines to learn from data.\",\n",
        "    \"Deep learning is a subfield of machine learning that utilizes neural networks with multiple layers.\",\n",
        "    \"AI applications are found in various industries, including healthcare, transportation, and entertainment.\",\n",
        "    \"Ethical consideration plays an important role in AI development.\",\n",
        "    \"AI has the potential to revolutionize many aspects of society.\",\n",
        "    \"AI systems such as chatbots and virtual assistants are becoming more common.\",\n",
        "    \"Natural language processing is a branch of AI that allows machines to understand human language.\",\n",
        "    \"The field of computer vision aims to enable machines to understand visual information.\",\n",
        "]"
      ],
      "metadata": {
        "id": "ExsEyuDMg47w"
      },
      "execution_count": null,
      "outputs": []
    },
    {
      "cell_type": "code",
      "execution_count": null,
      "metadata": {
        "id": "1cdSf8EcdPG4"
      },
      "outputs": [],
      "source": [
        "# pre-processing.\n",
        "doc = [x.lower() for x in doc]\n",
        "\n",
        "# parameters\n",
        "max_features = 18\n",
        "min_df = 1\n",
        "max_df = 3\n",
        "stop_words = stopwords.words('english')\n",
        "\n",
        "vectorizer = TfidfVectorizer(max_features=max_features,\n",
        "                             min_df=min_df,\n",
        "                             max_df=max_df,\n",
        "                             stop_words=stop_words)\n",
        "X = vectorizer.fit_transform(doc).toarray()"
      ]
    },
    {
      "cell_type": "markdown",
      "source": [
        "<font color=red>[Respuesta]</font>"
      ],
      "metadata": {
        "id": "4koW3n5fhBma"
      }
    },
    {
      "cell_type": "code",
      "source": [],
      "metadata": {
        "id": "ECtzO3nSiLP6"
      },
      "execution_count": null,
      "outputs": []
    },
    {
      "cell_type": "code",
      "source": [],
      "metadata": {
        "id": "c8nzwEPpiLFr"
      },
      "execution_count": null,
      "outputs": []
    },
    {
      "cell_type": "code",
      "source": [],
      "metadata": {
        "id": "fRqXhpaTiK8O"
      },
      "execution_count": null,
      "outputs": []
    }
  ]
}