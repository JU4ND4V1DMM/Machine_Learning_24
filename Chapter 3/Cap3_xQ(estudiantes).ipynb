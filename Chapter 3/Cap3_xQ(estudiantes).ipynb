{
  "nbformat": 4,
  "nbformat_minor": 0,
  "metadata": {
    "colab": {
      "provenance": []
    },
    "kernelspec": {
      "name": "python3",
      "display_name": "Python 3"
    },
    "language_info": {
      "name": "python"
    }
  },
  "cells": [
    {
      "cell_type": "markdown",
      "source": [
        "# Capítulo 3, Quiz"
      ],
      "metadata": {
        "id": "IxvADJPNHI_p"
      }
    },
    {
      "cell_type": "markdown",
      "source": [
        "* Descargar las librerías"
      ],
      "metadata": {
        "id": "mvc0BT6jLJQH"
      }
    },
    {
      "cell_type": "code",
      "execution_count": null,
      "metadata": {
        "id": "twazEdggGZmV"
      },
      "outputs": [],
      "source": [
        "import pandas as pd\n",
        "import numpy as np\n",
        "import matplotlib.pyplot as plt\n",
        "%matplotlib inline\n",
        "import os"
      ]
    },
    {
      "cell_type": "markdown",
      "source": [
        "## Pregunta 1:\n",
        "\n",
        "### Descargar los datos."
      ],
      "metadata": {
        "id": "EmDcfn22K33j"
      }
    },
    {
      "cell_type": "code",
      "source": [
        "## ADVERTENCIA: Comentar esta celda si NO está trabajando dentro de Google Colaboratory\n",
        "from google.colab import drive\n",
        "drive.mount('/content/drive')\n",
        "os.getcwd()\n",
        "os.chdir(\"/content/drive/MyDrive/Samsung Innovation Campus 2023/Material de Consulta/Datasets\") ## Cambie esta ruta por la de su sistema de archivos\n",
        "os.getcwd()"
      ],
      "metadata": {
        "id": "_-77c7ATG3M1",
        "colab": {
          "base_uri": "https://localhost:8080/",
          "height": 228
        },
        "outputId": "757d66db-f26d-47e7-ada1-2160da7ba8d6"
      },
      "execution_count": null,
      "outputs": [
        {
          "output_type": "stream",
          "name": "stdout",
          "text": [
            "Drive already mounted at /content/drive; to attempt to forcibly remount, call drive.mount(\"/content/drive\", force_remount=True).\n"
          ]
        },
        {
          "output_type": "error",
          "ename": "FileNotFoundError",
          "evalue": "[Errno 2] No such file or directory: '/content/drive/MyDrive/Samsung Innovation Campus 2023/Material de Consulta/Datasets'",
          "traceback": [
            "\u001b[0;31m---------------------------------------------------------------------------\u001b[0m",
            "\u001b[0;31mFileNotFoundError\u001b[0m                         Traceback (most recent call last)",
            "\u001b[0;32m<ipython-input-4-2a73f18a74c5>\u001b[0m in \u001b[0;36m<cell line: 5>\u001b[0;34m()\u001b[0m\n\u001b[1;32m      3\u001b[0m \u001b[0mdrive\u001b[0m\u001b[0;34m.\u001b[0m\u001b[0mmount\u001b[0m\u001b[0;34m(\u001b[0m\u001b[0;34m'/content/drive'\u001b[0m\u001b[0;34m)\u001b[0m\u001b[0;34m\u001b[0m\u001b[0;34m\u001b[0m\u001b[0m\n\u001b[1;32m      4\u001b[0m \u001b[0mos\u001b[0m\u001b[0;34m.\u001b[0m\u001b[0mgetcwd\u001b[0m\u001b[0;34m(\u001b[0m\u001b[0;34m)\u001b[0m\u001b[0;34m\u001b[0m\u001b[0;34m\u001b[0m\u001b[0m\n\u001b[0;32m----> 5\u001b[0;31m \u001b[0mos\u001b[0m\u001b[0;34m.\u001b[0m\u001b[0mchdir\u001b[0m\u001b[0;34m(\u001b[0m\u001b[0;34m\"/content/drive/MyDrive/Samsung Innovation Campus 2023/Material de Consulta/Datasets\"\u001b[0m\u001b[0;34m)\u001b[0m \u001b[0;31m## Cambie esta ruta por la de su sistema de archivos\u001b[0m\u001b[0;34m\u001b[0m\u001b[0;34m\u001b[0m\u001b[0m\n\u001b[0m\u001b[1;32m      6\u001b[0m \u001b[0mos\u001b[0m\u001b[0;34m.\u001b[0m\u001b[0mgetcwd\u001b[0m\u001b[0;34m(\u001b[0m\u001b[0;34m)\u001b[0m\u001b[0;34m\u001b[0m\u001b[0;34m\u001b[0m\u001b[0m\n",
            "\u001b[0;31mFileNotFoundError\u001b[0m: [Errno 2] No such file or directory: '/content/drive/MyDrive/Samsung Innovation Campus 2023/Material de Consulta/Datasets'"
          ]
        }
      ]
    },
    {
      "cell_type": "code",
      "source": [
        "# En Jupyter: Dirígete al directorio donde se encuentra el archivo de datos.\n",
        "try:\n",
        "  os.chdir(r'~~') # Por favor, reemplaza la ruta en tu PC a 'data_studentlist.csv'\n",
        "except:\n",
        "  print('archivo no encontrado')"
      ],
      "metadata": {
        "id": "8zm21kDOG2ZR"
      },
      "execution_count": null,
      "outputs": []
    },
    {
      "cell_type": "code",
      "source": [
        "df = pd.read_csv('data_studentlist.csv', header='infer')\n",
        "df.head(5)"
      ],
      "metadata": {
        "id": "orEjOxBlG-B-"
      },
      "execution_count": null,
      "outputs": []
    },
    {
      "cell_type": "markdown",
      "source": [
        "### 1) Estatura promedio de estudiantes de género masculino:"
      ],
      "metadata": {
        "id": "ewk7o_bHHY5z"
      }
    },
    {
      "cell_type": "code",
      "source": [],
      "metadata": {
        "id": "EEqyGZIzH6oD"
      },
      "execution_count": null,
      "outputs": []
    },
    {
      "cell_type": "markdown",
      "source": [
        "### 2) Estatura promedio de estudiantes de género femenino:\n"
      ],
      "metadata": {
        "id": "j8NZjDkjHZTL"
      }
    },
    {
      "cell_type": "code",
      "source": [],
      "metadata": {
        "id": "ozBbr7iNIbph"
      },
      "execution_count": null,
      "outputs": []
    },
    {
      "cell_type": "markdown",
      "source": [
        "### 3) Peso medio de estudiantes de género masculino:\n"
      ],
      "metadata": {
        "id": "6-GYxC8HHZqS"
      }
    },
    {
      "cell_type": "code",
      "source": [],
      "metadata": {
        "id": "b9bMFnNgIgIY"
      },
      "execution_count": null,
      "outputs": []
    },
    {
      "cell_type": "markdown",
      "source": [
        "### 4) Peso medio de estudiantes de género femenino:\n"
      ],
      "metadata": {
        "id": "PSc91Vu0HWUK"
      }
    },
    {
      "cell_type": "code",
      "source": [],
      "metadata": {
        "id": "Eom4N9egIhmw"
      },
      "execution_count": null,
      "outputs": []
    },
    {
      "cell_type": "markdown",
      "source": [
        "### 5) La altura más alta entre estudiantes de género masculino:\n"
      ],
      "metadata": {
        "id": "cs6fOrejIHjS"
      }
    },
    {
      "cell_type": "code",
      "source": [],
      "metadata": {
        "id": "PyJSNkVDIkAN"
      },
      "execution_count": null,
      "outputs": []
    },
    {
      "cell_type": "markdown",
      "source": [
        "### 6) La altura más baja entre estudiantes de género femenino:\n"
      ],
      "metadata": {
        "id": "haQ_IrmpIMDm"
      }
    },
    {
      "cell_type": "code",
      "source": [],
      "metadata": {
        "id": "DgGLwYvOIlit"
      },
      "execution_count": null,
      "outputs": []
    },
    {
      "cell_type": "markdown",
      "source": [
        "### 7) El peso más ligero entre los estudiantes de género masculino de altura superior a 175 cm:\n"
      ],
      "metadata": {
        "id": "J1XXppdCIP1T"
      }
    },
    {
      "cell_type": "code",
      "source": [],
      "metadata": {
        "id": "UylV98CRIo_X"
      },
      "execution_count": null,
      "outputs": []
    },
    {
      "cell_type": "markdown",
      "source": [
        "### 8) El peso más pesado entre estudiantes de género femenino de altura inferior a 160 cm:\n"
      ],
      "metadata": {
        "id": "1oc1JVczIRmZ"
      }
    },
    {
      "cell_type": "code",
      "source": [],
      "metadata": {
        "id": "h4TSQvZMIrCN"
      },
      "execution_count": null,
      "outputs": []
    },
    {
      "cell_type": "markdown",
      "source": [
        "### 9) La calificación promedio de los estudiantes sin ausencias ('N'):\n"
      ],
      "metadata": {
        "id": "6FMI73faITL3"
      }
    },
    {
      "cell_type": "code",
      "source": [],
      "metadata": {
        "id": "OJwNHvQUItNv"
      },
      "execution_count": null,
      "outputs": []
    },
    {
      "cell_type": "markdown",
      "source": [
        "### 10) La calificación promedio de los estudiantes con ausencia ('Y'):\n"
      ],
      "metadata": {
        "id": "3ltne7unIUwQ"
      }
    },
    {
      "cell_type": "code",
      "source": [],
      "metadata": {
        "id": "g1Havn_GIuuq"
      },
      "execution_count": null,
      "outputs": []
    },
    {
      "cell_type": "markdown",
      "source": [
        "### 11) Estatura promedio de los estudiantes con tipo de sangre 'A' o 'AB':\n"
      ],
      "metadata": {
        "id": "zNdyyMwhIWS3"
      }
    },
    {
      "cell_type": "code",
      "source": [],
      "metadata": {
        "id": "SvXQiJ0LIwgX"
      },
      "execution_count": null,
      "outputs": []
    },
    {
      "cell_type": "markdown",
      "source": [
        "### 12) Altura promedio de los estudiantes de género masculino con tipo de sangre 'A' o 'AB':\n"
      ],
      "metadata": {
        "id": "pXP9np59IYP0"
      }
    },
    {
      "cell_type": "code",
      "source": [],
      "metadata": {
        "id": "MaiLe7fQIyWK"
      },
      "execution_count": null,
      "outputs": []
    },
    {
      "cell_type": "markdown",
      "source": [
        "### 13) Edad promedio de los estudiantes con ausencia ('Y') cuya calificación es igual o mayor a 3:"
      ],
      "metadata": {
        "id": "TCbvEjW1IZnZ"
      }
    },
    {
      "cell_type": "code",
      "source": [],
      "metadata": {
        "id": "UJBWh-EiI0DF"
      },
      "execution_count": null,
      "outputs": []
    },
    {
      "cell_type": "markdown",
      "source": [
        "## Pregunta 2\n",
        "\n",
        "### Descargar los datos."
      ],
      "metadata": {
        "id": "nX8lrK2BK9Qq"
      }
    },
    {
      "cell_type": "code",
      "source": [
        "# En Jupyter: Dirígete al directorio donde se encuentra el archivo de datos.\n",
        "try:\n",
        "  os.chdir(r'~~') # Por favor, reemplaza la ruta en tu PC\n",
        "except:\n",
        "  print('archivo no encontrado')"
      ],
      "metadata": {
        "id": "7J4mH5poLZRh"
      },
      "execution_count": null,
      "outputs": []
    },
    {
      "cell_type": "code",
      "source": [
        "df = pd.read_csv('data_census.csv', header='infer')"
      ],
      "metadata": {
        "id": "idb_AkhBLi9p"
      },
      "execution_count": null,
      "outputs": []
    },
    {
      "cell_type": "code",
      "source": [
        "print(df.shape)"
      ],
      "metadata": {
        "id": "6ZvUNfFmNLcB"
      },
      "execution_count": null,
      "outputs": []
    },
    {
      "cell_type": "code",
      "source": [
        "df.head(10)"
      ],
      "metadata": {
        "id": "4eCGVryQNLOg"
      },
      "execution_count": null,
      "outputs": []
    },
    {
      "cell_type": "markdown",
      "source": [
        "### 1) Población total de ProvinceCode igual a 115 y 116:\n"
      ],
      "metadata": {
        "id": "BqvR6IoAK_8v"
      }
    },
    {
      "cell_type": "code",
      "source": [],
      "metadata": {
        "id": "tZ8SEa9rMFMM"
      },
      "execution_count": null,
      "outputs": []
    },
    {
      "cell_type": "markdown",
      "source": [
        "### 2) Población media de las ciudades donde hay más hombres:\n"
      ],
      "metadata": {
        "id": "MDhaZsf-MFdN"
      }
    },
    {
      "cell_type": "code",
      "source": [],
      "metadata": {
        "id": "cSCyaI0MMItb"
      },
      "execution_count": null,
      "outputs": []
    },
    {
      "cell_type": "markdown",
      "source": [
        "### 3) Lugares con más hombres (GenderRatio >1) y menos de 2 personas por hogar:\n"
      ],
      "metadata": {
        "id": "YfBU-N-sMJH6"
      }
    },
    {
      "cell_type": "code",
      "source": [],
      "metadata": {
        "id": "b88lDZ8oMLq9"
      },
      "execution_count": null,
      "outputs": []
    },
    {
      "cell_type": "markdown",
      "source": [
        "### 4) Ordena el DataFrame en orden ascendente de los 'Hogares'. Muestra los 10 primeros."
      ],
      "metadata": {
        "id": "AEqReSvTMMBL"
      }
    },
    {
      "cell_type": "code",
      "source": [],
      "metadata": {
        "id": "oLY6Z_mfMccN"
      },
      "execution_count": null,
      "outputs": []
    },
    {
      "cell_type": "markdown",
      "source": [
        "## Pregunta 3\n",
        "\n",
        "### Descargar los datos"
      ],
      "metadata": {
        "id": "ugRQqfoQMh-9"
      }
    },
    {
      "cell_type": "code",
      "source": [
        "# En Jupyter: Dirígete al directorio donde se encuentra el archivo de datos.\n",
        "try:\n",
        "  os.chdir(r'~~') # Por favor, reemplaza la ruta en tu PC a 'data_sales.csv'\n",
        "except:\n",
        "  print('archivo no encontrado')"
      ],
      "metadata": {
        "id": "btIPD7VqMyY1"
      },
      "execution_count": null,
      "outputs": []
    },
    {
      "cell_type": "code",
      "source": [
        "df = pd.read_csv('data_sales.csv', header='infer')"
      ],
      "metadata": {
        "id": "kEr7r1ghMy6J"
      },
      "execution_count": null,
      "outputs": []
    },
    {
      "cell_type": "code",
      "source": [
        "print(df.shape)"
      ],
      "metadata": {
        "id": "CtZoEOG3NG3W"
      },
      "execution_count": null,
      "outputs": []
    },
    {
      "cell_type": "code",
      "source": [
        "df.head(5)"
      ],
      "metadata": {
        "id": "s0UxPxoJNHW0"
      },
      "execution_count": null,
      "outputs": []
    },
    {
      "cell_type": "markdown",
      "source": [
        "### 1) Agrega una nueva variable Amount = Unit Price x Units.\n"
      ],
      "metadata": {
        "id": "SQJrOLQ_NX0F"
      }
    },
    {
      "cell_type": "code",
      "source": [],
      "metadata": {
        "id": "pFt961dsNwFT"
      },
      "execution_count": null,
      "outputs": []
    },
    {
      "cell_type": "markdown",
      "source": [
        "### 2) Precio unitario medio para cada región. Usa el método groupby().\n"
      ],
      "metadata": {
        "id": "S1RMcl84NxR0"
      }
    },
    {
      "cell_type": "code",
      "source": [],
      "metadata": {
        "id": "f2oMbYoMO68W"
      },
      "execution_count": null,
      "outputs": []
    },
    {
      "cell_type": "markdown",
      "source": [
        "### 3) Precio unitario medio para cada región. Usa el método pivot_table().\n"
      ],
      "metadata": {
        "id": "HXoXIB4fOLli"
      }
    },
    {
      "cell_type": "code",
      "source": [],
      "metadata": {
        "id": "YH98GDTiO9X4"
      },
      "execution_count": null,
      "outputs": []
    },
    {
      "cell_type": "markdown",
      "source": [
        "### 4) Precio unitario promedio y unidades para cada región en una sola línea de código. Usa el método groupby().\n"
      ],
      "metadata": {
        "id": "yt-MFj0uOPE4"
      }
    },
    {
      "cell_type": "code",
      "source": [],
      "metadata": {
        "id": "DcJ8RSNsPMjP"
      },
      "execution_count": null,
      "outputs": []
    },
    {
      "cell_type": "markdown",
      "source": [
        "### 5) Precio unitario promedio y unidades para cada región en una sola línea de código. Usa el método pivot_table().\n"
      ],
      "metadata": {
        "id": "k0oxVEiFOSop"
      }
    },
    {
      "cell_type": "code",
      "source": [],
      "metadata": {
        "id": "VbeTgXiiPPho"
      },
      "execution_count": null,
      "outputs": []
    },
    {
      "cell_type": "markdown",
      "source": [
        "### 6) Unidades totales para cada región y tipo de artículo en una sola línea de código. Usa el método pivot_table(). Completa los valores faltantes con 0.\n"
      ],
      "metadata": {
        "id": "PAu5De3IOUGp"
      }
    },
    {
      "cell_type": "code",
      "source": [],
      "metadata": {
        "id": "Kst9hul8PSJn"
      },
      "execution_count": null,
      "outputs": []
    },
    {
      "cell_type": "markdown",
      "source": [
        "### 7) Monto total de ventas para cada región y tipo de artículo en una sola línea de código. Usa el método pivot_table(). Completa los valores faltantes con 0."
      ],
      "metadata": {
        "id": "PAYqGuX2OWRT"
      }
    },
    {
      "cell_type": "code",
      "source": [],
      "metadata": {
        "id": "LLfTdu3HPmqX"
      },
      "execution_count": null,
      "outputs": []
    },
    {
      "cell_type": "markdown",
      "source": [
        "## Pregunta 4\n",
        "\n",
        "### Descarga los datos"
      ],
      "metadata": {
        "id": "WnoHCCscPvhl"
      }
    },
    {
      "cell_type": "code",
      "source": [
        "# En Jupyter: Dirígete al directorio donde se encuentra el archivo de datos.\n",
        "try:\n",
        "  os.chdir(r'~~') # Por favor, reemplaza la ruta en tu PC a 'data_coffeeshop.csv'\n",
        "except:\n",
        "  print('archivo no encontrado')"
      ],
      "metadata": {
        "id": "zGKLwJ7hP-7a"
      },
      "execution_count": null,
      "outputs": []
    },
    {
      "cell_type": "code",
      "source": [
        "df = pd.read_csv('data_coffeeshop.csv', header='infer',na_values=[' '])"
      ],
      "metadata": {
        "id": "QrHgt2sCQHCL"
      },
      "execution_count": null,
      "outputs": []
    },
    {
      "cell_type": "code",
      "source": [
        "print(df.shape)"
      ],
      "metadata": {
        "id": "S5Z4AU_kQIdv"
      },
      "execution_count": null,
      "outputs": []
    },
    {
      "cell_type": "code",
      "source": [
        "df.head(5)"
      ],
      "metadata": {
        "id": "EJkEjPOtQIKu"
      },
      "execution_count": null,
      "outputs": []
    },
    {
      "cell_type": "markdown",
      "source": [
        "### 1) Organiza una tabla de frecuencia de 'yearOfStart' y muestra con una visualización por año.\n",
        " * Ordenar por año.\n",
        " * Dibuja un diagrama lineal de 1997 a 2014. <= Pista: plt.xlim()\n"
      ],
      "metadata": {
        "id": "Dg6G5V04Qgl4"
      }
    },
    {
      "cell_type": "code",
      "source": [],
      "metadata": {
        "id": "iDI9UiuJQz5E"
      },
      "execution_count": null,
      "outputs": []
    },
    {
      "cell_type": "markdown",
      "source": [
        "### 2) Ahora, divide los datos por el estado actual del negocio (\"In\" o \"Out\" del negocio). Luego, muestra con una visualización la tendencia anual de las frecuencias 'yearOfStart'.\n",
        " * Ordenar por año.\n",
        " * Dibuja dos gráficas de líneas superpuestas de 1997 a 2014.\n",
        " * Utilice el objeto para figura 'figure'."
      ],
      "metadata": {
        "id": "XFBkDR3gQ0Nx"
      }
    },
    {
      "cell_type": "code",
      "source": [],
      "metadata": {
        "id": "KiW5GrAJRVND"
      },
      "execution_count": null,
      "outputs": []
    },
    {
      "cell_type": "markdown",
      "source": [
        "### 3) A partir de los resultados de 1) y 2), ¿cómo puedes describir la tendencia en general?"
      ],
      "metadata": {
        "id": "4yELz1erRVwS"
      }
    },
    {
      "cell_type": "markdown",
      "source": [
        "* Alrededor del año 2008, comenzó un fuerte aumento en el número de nuevas cafeterías.\n",
        "* A partir de 2014, las cafeterías que abrieron en los últimos 5 años siguen en funcionamiento en lugar de cerrar."
      ],
      "metadata": {
        "id": "syxAbC8rSiF0"
      }
    },
    {
      "cell_type": "markdown",
      "source": [
        "## Pregunta 5\n",
        "\n",
        "### ¿Cuál es una sintaxis correcta para crear una matriz NumPy?"
      ],
      "metadata": {
        "id": "YGZEElCrTgGV"
      }
    },
    {
      "cell_type": "markdown",
      "source": [
        "### 1) np.createArray([1, 2, 3, 4, 5])\n",
        "### 2) np.array([1, 2, 3, 4, 5])\n",
        "### 3) np.object([1, 2, 3, 4, 5])"
      ],
      "metadata": {
        "id": "CL0fDO7YTiLu"
      }
    },
    {
      "cell_type": "markdown",
      "source": [
        "<font color=red>Respuesta/ </font>"
      ],
      "metadata": {
        "id": "ThyqWEppT7Y4"
      }
    },
    {
      "cell_type": "markdown",
      "source": [
        "## Pregunta 6\n",
        "\n",
        "¿Cuál de las siguientes matrices es una matriz bidimensional (2-D)?\n"
      ],
      "metadata": {
        "id": "DX6pY8qmUET7"
      }
    },
    {
      "cell_type": "markdown",
      "source": [
        "### 1) 42\n",
        "### 2) ([1, 2, 3], [4, 5, 6])\n",
        "### 3) [1, 2, 3, 4, 5]"
      ],
      "metadata": {
        "id": "zRi16iToUNZ8"
      }
    },
    {
      "cell_type": "markdown",
      "source": [
        "<font color=red>Respuesta/ </font>"
      ],
      "metadata": {
        "id": "Qulo0edcUTyQ"
      }
    }
  ]
}